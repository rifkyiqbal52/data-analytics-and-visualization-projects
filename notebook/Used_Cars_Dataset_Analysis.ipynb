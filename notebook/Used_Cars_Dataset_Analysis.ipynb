{
 "cells": [
  {
   "cell_type": "markdown",
   "id": "938070a4",
   "metadata": {},
   "source": [
    "### URL Tableau Dashboard\n",
    "---\n",
    "\n",
    "[DASHBOARD VISUALISASI] (https://public.tableau.com/app/profile/rifky.iqbal5811/viz/UsedCarsDatasetVisual/DashboardVisual?publish=yes)\n",
    "\n",
    "[DASHBOARD ANALYSIS] (https://public.tableau.com/app/profile/rifky.iqbal5811/viz/UsedCarsDataset/DashboardAnalysis)"
   ]
  },
  {
   "cell_type": "markdown",
   "id": "57949438",
   "metadata": {},
   "source": [
    "Import Libraries"
   ]
  },
  {
   "cell_type": "code",
   "execution_count": 1,
   "id": "be03110f",
   "metadata": {},
   "outputs": [],
   "source": [
    "import pandas as pd\n",
    "from scipy import stats\n",
    "import numpy as np\n",
    "import matplotlib.pyplot as plt\n",
    "import seaborn as sns\n",
    "from statsmodels.tsa.seasonal import seasonal_decompose\n",
    "from statsmodels.tsa.stattools import adfuller\n",
    "from statsmodels.tsa.arima.model import ARIMA\n",
    "from sklearn.metrics import mean_absolute_error, mean_squared_error\n",
    "\n",
    "np.random.seed(10)"
   ]
  },
  {
   "cell_type": "markdown",
   "id": "0a219013",
   "metadata": {},
   "source": [
    "## **i. Perkenalan**\n"
   ]
  },
  {
   "cell_type": "markdown",
   "id": "a5458087",
   "metadata": {},
   "source": [
    "Nama : Rifky Iqbal Algifari  \n",
    "Batch : CODA-RMT-007\n",
    "\n",
    "Program ini bertujuan untuk melihat faktor-faktor yang mempengaruhi penjualan mobil bekas dari dataset yang diperoleh di kaggle"
   ]
  },
  {
   "cell_type": "markdown",
   "id": "562f14a2",
   "metadata": {},
   "source": [
    "## **ii. Identifikasi Masalah**"
   ]
  },
  {
   "cell_type": "markdown",
   "id": "7155c18e",
   "metadata": {},
   "source": [
    "### **Latar Belakang**"
   ]
  },
  {
   "cell_type": "markdown",
   "id": "3aff1f1f",
   "metadata": {},
   "source": [
    "Penjualan mobil bekas merupakan sektor perdagangan yang masih diminati sampai sekarang, terutama di negara-negara yang mempunyai mobilitas tinggi serta banyaknya hobi modifikasi mobil bekas. Banyaknya permintaan dan penawaran di pasar ini dipengaruhi oleh berbagai faktor seperti harga, kondisi kendaraan, jarak tempuh, merek, tahun pembuatan, dll.\n",
    "\n",
    "Namun di tengah banyak minat di penjualan mobil bekas, baik penjual dan pembeli masih mengalami kesulitan dalam menentukan harga yang wajar dan kompetitif. maka dari itu saya melakukan analisa data dari dataset yang di dapat dari website kaggle yang dikumpulkan dan dianalisis yang kedepannya diharapkan mampu  membantu memecahkan permasalahan tersebut.\n",
    "\n",
    "Analisis ini juga membuka peluang untuk membuat model prediktif harga kendaraan, yang sangat bermanfaat bagi konsumen, penjual, serta platform jual-beli kendaraan untuk meningkatkan efisiensi dan transparansi pasar."
   ]
  },
  {
   "cell_type": "markdown",
   "id": "a08ec99f",
   "metadata": {},
   "source": [
    "### **Problem Statement**"
   ]
  },
  {
   "cell_type": "markdown",
   "id": "237688a6",
   "metadata": {},
   "source": [
    "Mengidentifikasi faktor-faktor yang memengaruhi harga mobil bekas untuk membantu penjual dan pembeli dalam membuat keputusan yang lebih tepat dalam transaksi jual beli kendaraan (dataset tahun 2021)?"
   ]
  },
  {
   "cell_type": "markdown",
   "id": "5b732b74",
   "metadata": {},
   "source": [
    "### Penjabaran Masalah"
   ]
  },
  {
   "cell_type": "markdown",
   "id": "bfbcf721",
   "metadata": {},
   "source": [
    "1. Merk model apa yang sering di posting ?\n",
    "2. Bagaimana distribusi harga mobil bekas?\n",
    "3. Merek apa yang paling mahal rata-ratanya?\n",
    "4. Berapa rata rata harga dari setiap kondisi mobil\n",
    "5. Rata-rata, median, dan standar deviasi dari harga & jarak\n",
    "6. Apakah harga mobil manual dan otomatis berbeda signifikan?"
   ]
  },
  {
   "cell_type": "markdown",
   "id": "1565a123",
   "metadata": {},
   "source": [
    "## **iii. Data Loading**"
   ]
  },
  {
   "cell_type": "code",
   "execution_count": 2,
   "id": "111d0747",
   "metadata": {},
   "outputs": [],
   "source": [
    "# Fungsi ini untuk upload file csv \n",
    "data=pd.read_csv('vehicles.csv')"
   ]
  },
  {
   "cell_type": "code",
   "execution_count": 4,
   "id": "2a387212",
   "metadata": {},
   "outputs": [
    {
     "data": {
      "text/html": [
       "<div>\n",
       "<style scoped>\n",
       "    .dataframe tbody tr th:only-of-type {\n",
       "        vertical-align: middle;\n",
       "    }\n",
       "\n",
       "    .dataframe tbody tr th {\n",
       "        vertical-align: top;\n",
       "    }\n",
       "\n",
       "    .dataframe thead th {\n",
       "        text-align: right;\n",
       "    }\n",
       "</style>\n",
       "<table border=\"1\" class=\"dataframe\">\n",
       "  <thead>\n",
       "    <tr style=\"text-align: right;\">\n",
       "      <th></th>\n",
       "      <th>id</th>\n",
       "      <th>url</th>\n",
       "      <th>region</th>\n",
       "      <th>region_url</th>\n",
       "      <th>price</th>\n",
       "      <th>year</th>\n",
       "      <th>manufacturer</th>\n",
       "      <th>model</th>\n",
       "      <th>condition</th>\n",
       "      <th>cylinders</th>\n",
       "      <th>...</th>\n",
       "      <th>size</th>\n",
       "      <th>type</th>\n",
       "      <th>paint_color</th>\n",
       "      <th>image_url</th>\n",
       "      <th>description</th>\n",
       "      <th>county</th>\n",
       "      <th>state</th>\n",
       "      <th>lat</th>\n",
       "      <th>long</th>\n",
       "      <th>posting_date</th>\n",
       "    </tr>\n",
       "  </thead>\n",
       "  <tbody>\n",
       "    <tr>\n",
       "      <th>0</th>\n",
       "      <td>7222695916</td>\n",
       "      <td>https://prescott.craigslist.org/cto/d/prescott...</td>\n",
       "      <td>prescott</td>\n",
       "      <td>https://prescott.craigslist.org</td>\n",
       "      <td>6000</td>\n",
       "      <td>NaN</td>\n",
       "      <td>NaN</td>\n",
       "      <td>NaN</td>\n",
       "      <td>NaN</td>\n",
       "      <td>NaN</td>\n",
       "      <td>...</td>\n",
       "      <td>NaN</td>\n",
       "      <td>NaN</td>\n",
       "      <td>NaN</td>\n",
       "      <td>NaN</td>\n",
       "      <td>NaN</td>\n",
       "      <td>NaN</td>\n",
       "      <td>az</td>\n",
       "      <td>NaN</td>\n",
       "      <td>NaN</td>\n",
       "      <td>NaN</td>\n",
       "    </tr>\n",
       "    <tr>\n",
       "      <th>1</th>\n",
       "      <td>7218891961</td>\n",
       "      <td>https://fayar.craigslist.org/ctd/d/bentonville...</td>\n",
       "      <td>fayetteville</td>\n",
       "      <td>https://fayar.craigslist.org</td>\n",
       "      <td>11900</td>\n",
       "      <td>NaN</td>\n",
       "      <td>NaN</td>\n",
       "      <td>NaN</td>\n",
       "      <td>NaN</td>\n",
       "      <td>NaN</td>\n",
       "      <td>...</td>\n",
       "      <td>NaN</td>\n",
       "      <td>NaN</td>\n",
       "      <td>NaN</td>\n",
       "      <td>NaN</td>\n",
       "      <td>NaN</td>\n",
       "      <td>NaN</td>\n",
       "      <td>ar</td>\n",
       "      <td>NaN</td>\n",
       "      <td>NaN</td>\n",
       "      <td>NaN</td>\n",
       "    </tr>\n",
       "    <tr>\n",
       "      <th>2</th>\n",
       "      <td>7221797935</td>\n",
       "      <td>https://keys.craigslist.org/cto/d/summerland-k...</td>\n",
       "      <td>florida keys</td>\n",
       "      <td>https://keys.craigslist.org</td>\n",
       "      <td>21000</td>\n",
       "      <td>NaN</td>\n",
       "      <td>NaN</td>\n",
       "      <td>NaN</td>\n",
       "      <td>NaN</td>\n",
       "      <td>NaN</td>\n",
       "      <td>...</td>\n",
       "      <td>NaN</td>\n",
       "      <td>NaN</td>\n",
       "      <td>NaN</td>\n",
       "      <td>NaN</td>\n",
       "      <td>NaN</td>\n",
       "      <td>NaN</td>\n",
       "      <td>fl</td>\n",
       "      <td>NaN</td>\n",
       "      <td>NaN</td>\n",
       "      <td>NaN</td>\n",
       "    </tr>\n",
       "    <tr>\n",
       "      <th>3</th>\n",
       "      <td>7222270760</td>\n",
       "      <td>https://worcester.craigslist.org/cto/d/west-br...</td>\n",
       "      <td>worcester / central MA</td>\n",
       "      <td>https://worcester.craigslist.org</td>\n",
       "      <td>1500</td>\n",
       "      <td>NaN</td>\n",
       "      <td>NaN</td>\n",
       "      <td>NaN</td>\n",
       "      <td>NaN</td>\n",
       "      <td>NaN</td>\n",
       "      <td>...</td>\n",
       "      <td>NaN</td>\n",
       "      <td>NaN</td>\n",
       "      <td>NaN</td>\n",
       "      <td>NaN</td>\n",
       "      <td>NaN</td>\n",
       "      <td>NaN</td>\n",
       "      <td>ma</td>\n",
       "      <td>NaN</td>\n",
       "      <td>NaN</td>\n",
       "      <td>NaN</td>\n",
       "    </tr>\n",
       "    <tr>\n",
       "      <th>4</th>\n",
       "      <td>7210384030</td>\n",
       "      <td>https://greensboro.craigslist.org/cto/d/trinit...</td>\n",
       "      <td>greensboro</td>\n",
       "      <td>https://greensboro.craigslist.org</td>\n",
       "      <td>4900</td>\n",
       "      <td>NaN</td>\n",
       "      <td>NaN</td>\n",
       "      <td>NaN</td>\n",
       "      <td>NaN</td>\n",
       "      <td>NaN</td>\n",
       "      <td>...</td>\n",
       "      <td>NaN</td>\n",
       "      <td>NaN</td>\n",
       "      <td>NaN</td>\n",
       "      <td>NaN</td>\n",
       "      <td>NaN</td>\n",
       "      <td>NaN</td>\n",
       "      <td>nc</td>\n",
       "      <td>NaN</td>\n",
       "      <td>NaN</td>\n",
       "      <td>NaN</td>\n",
       "    </tr>\n",
       "    <tr>\n",
       "      <th>...</th>\n",
       "      <td>...</td>\n",
       "      <td>...</td>\n",
       "      <td>...</td>\n",
       "      <td>...</td>\n",
       "      <td>...</td>\n",
       "      <td>...</td>\n",
       "      <td>...</td>\n",
       "      <td>...</td>\n",
       "      <td>...</td>\n",
       "      <td>...</td>\n",
       "      <td>...</td>\n",
       "      <td>...</td>\n",
       "      <td>...</td>\n",
       "      <td>...</td>\n",
       "      <td>...</td>\n",
       "      <td>...</td>\n",
       "      <td>...</td>\n",
       "      <td>...</td>\n",
       "      <td>...</td>\n",
       "      <td>...</td>\n",
       "      <td>...</td>\n",
       "    </tr>\n",
       "    <tr>\n",
       "      <th>426875</th>\n",
       "      <td>7301591192</td>\n",
       "      <td>https://wyoming.craigslist.org/ctd/d/atlanta-2...</td>\n",
       "      <td>wyoming</td>\n",
       "      <td>https://wyoming.craigslist.org</td>\n",
       "      <td>23590</td>\n",
       "      <td>2019.0</td>\n",
       "      <td>nissan</td>\n",
       "      <td>maxima s sedan 4d</td>\n",
       "      <td>good</td>\n",
       "      <td>6 cylinders</td>\n",
       "      <td>...</td>\n",
       "      <td>NaN</td>\n",
       "      <td>sedan</td>\n",
       "      <td>NaN</td>\n",
       "      <td>https://images.craigslist.org/00o0o_iiraFnHg8q...</td>\n",
       "      <td>Carvana is the safer way to buy a car During t...</td>\n",
       "      <td>NaN</td>\n",
       "      <td>wy</td>\n",
       "      <td>33.786500</td>\n",
       "      <td>-84.445400</td>\n",
       "      <td>2021-04-04T03:21:31-0600</td>\n",
       "    </tr>\n",
       "    <tr>\n",
       "      <th>426876</th>\n",
       "      <td>7301591187</td>\n",
       "      <td>https://wyoming.craigslist.org/ctd/d/atlanta-2...</td>\n",
       "      <td>wyoming</td>\n",
       "      <td>https://wyoming.craigslist.org</td>\n",
       "      <td>30590</td>\n",
       "      <td>2020.0</td>\n",
       "      <td>volvo</td>\n",
       "      <td>s60 t5 momentum sedan 4d</td>\n",
       "      <td>good</td>\n",
       "      <td>NaN</td>\n",
       "      <td>...</td>\n",
       "      <td>NaN</td>\n",
       "      <td>sedan</td>\n",
       "      <td>red</td>\n",
       "      <td>https://images.craigslist.org/00x0x_15sbgnxCIS...</td>\n",
       "      <td>Carvana is the safer way to buy a car During t...</td>\n",
       "      <td>NaN</td>\n",
       "      <td>wy</td>\n",
       "      <td>33.786500</td>\n",
       "      <td>-84.445400</td>\n",
       "      <td>2021-04-04T03:21:29-0600</td>\n",
       "    </tr>\n",
       "    <tr>\n",
       "      <th>426877</th>\n",
       "      <td>7301591147</td>\n",
       "      <td>https://wyoming.craigslist.org/ctd/d/atlanta-2...</td>\n",
       "      <td>wyoming</td>\n",
       "      <td>https://wyoming.craigslist.org</td>\n",
       "      <td>34990</td>\n",
       "      <td>2020.0</td>\n",
       "      <td>cadillac</td>\n",
       "      <td>xt4 sport suv 4d</td>\n",
       "      <td>good</td>\n",
       "      <td>NaN</td>\n",
       "      <td>...</td>\n",
       "      <td>NaN</td>\n",
       "      <td>hatchback</td>\n",
       "      <td>white</td>\n",
       "      <td>https://images.craigslist.org/00L0L_farM7bxnxR...</td>\n",
       "      <td>Carvana is the safer way to buy a car During t...</td>\n",
       "      <td>NaN</td>\n",
       "      <td>wy</td>\n",
       "      <td>33.779214</td>\n",
       "      <td>-84.411811</td>\n",
       "      <td>2021-04-04T03:21:17-0600</td>\n",
       "    </tr>\n",
       "    <tr>\n",
       "      <th>426878</th>\n",
       "      <td>7301591140</td>\n",
       "      <td>https://wyoming.craigslist.org/ctd/d/atlanta-2...</td>\n",
       "      <td>wyoming</td>\n",
       "      <td>https://wyoming.craigslist.org</td>\n",
       "      <td>28990</td>\n",
       "      <td>2018.0</td>\n",
       "      <td>lexus</td>\n",
       "      <td>es 350 sedan 4d</td>\n",
       "      <td>good</td>\n",
       "      <td>6 cylinders</td>\n",
       "      <td>...</td>\n",
       "      <td>NaN</td>\n",
       "      <td>sedan</td>\n",
       "      <td>silver</td>\n",
       "      <td>https://images.craigslist.org/00z0z_bKnIVGLkDT...</td>\n",
       "      <td>Carvana is the safer way to buy a car During t...</td>\n",
       "      <td>NaN</td>\n",
       "      <td>wy</td>\n",
       "      <td>33.786500</td>\n",
       "      <td>-84.445400</td>\n",
       "      <td>2021-04-04T03:21:11-0600</td>\n",
       "    </tr>\n",
       "    <tr>\n",
       "      <th>426879</th>\n",
       "      <td>7301591129</td>\n",
       "      <td>https://wyoming.craigslist.org/ctd/d/atlanta-2...</td>\n",
       "      <td>wyoming</td>\n",
       "      <td>https://wyoming.craigslist.org</td>\n",
       "      <td>30590</td>\n",
       "      <td>2019.0</td>\n",
       "      <td>bmw</td>\n",
       "      <td>4 series 430i gran coupe</td>\n",
       "      <td>good</td>\n",
       "      <td>NaN</td>\n",
       "      <td>...</td>\n",
       "      <td>NaN</td>\n",
       "      <td>coupe</td>\n",
       "      <td>NaN</td>\n",
       "      <td>https://images.craigslist.org/00Y0Y_lEUocjyRxa...</td>\n",
       "      <td>Carvana is the safer way to buy a car During t...</td>\n",
       "      <td>NaN</td>\n",
       "      <td>wy</td>\n",
       "      <td>33.779214</td>\n",
       "      <td>-84.411811</td>\n",
       "      <td>2021-04-04T03:21:07-0600</td>\n",
       "    </tr>\n",
       "  </tbody>\n",
       "</table>\n",
       "<p>426880 rows × 26 columns</p>\n",
       "</div>"
      ],
      "text/plain": [
       "                id                                                url  \\\n",
       "0       7222695916  https://prescott.craigslist.org/cto/d/prescott...   \n",
       "1       7218891961  https://fayar.craigslist.org/ctd/d/bentonville...   \n",
       "2       7221797935  https://keys.craigslist.org/cto/d/summerland-k...   \n",
       "3       7222270760  https://worcester.craigslist.org/cto/d/west-br...   \n",
       "4       7210384030  https://greensboro.craigslist.org/cto/d/trinit...   \n",
       "...            ...                                                ...   \n",
       "426875  7301591192  https://wyoming.craigslist.org/ctd/d/atlanta-2...   \n",
       "426876  7301591187  https://wyoming.craigslist.org/ctd/d/atlanta-2...   \n",
       "426877  7301591147  https://wyoming.craigslist.org/ctd/d/atlanta-2...   \n",
       "426878  7301591140  https://wyoming.craigslist.org/ctd/d/atlanta-2...   \n",
       "426879  7301591129  https://wyoming.craigslist.org/ctd/d/atlanta-2...   \n",
       "\n",
       "                        region                         region_url  price  \\\n",
       "0                     prescott    https://prescott.craigslist.org   6000   \n",
       "1                 fayetteville       https://fayar.craigslist.org  11900   \n",
       "2                 florida keys        https://keys.craigslist.org  21000   \n",
       "3       worcester / central MA   https://worcester.craigslist.org   1500   \n",
       "4                   greensboro  https://greensboro.craigslist.org   4900   \n",
       "...                        ...                                ...    ...   \n",
       "426875                 wyoming     https://wyoming.craigslist.org  23590   \n",
       "426876                 wyoming     https://wyoming.craigslist.org  30590   \n",
       "426877                 wyoming     https://wyoming.craigslist.org  34990   \n",
       "426878                 wyoming     https://wyoming.craigslist.org  28990   \n",
       "426879                 wyoming     https://wyoming.craigslist.org  30590   \n",
       "\n",
       "          year manufacturer                     model condition    cylinders  \\\n",
       "0          NaN          NaN                       NaN       NaN          NaN   \n",
       "1          NaN          NaN                       NaN       NaN          NaN   \n",
       "2          NaN          NaN                       NaN       NaN          NaN   \n",
       "3          NaN          NaN                       NaN       NaN          NaN   \n",
       "4          NaN          NaN                       NaN       NaN          NaN   \n",
       "...        ...          ...                       ...       ...          ...   \n",
       "426875  2019.0       nissan         maxima s sedan 4d      good  6 cylinders   \n",
       "426876  2020.0        volvo  s60 t5 momentum sedan 4d      good          NaN   \n",
       "426877  2020.0     cadillac          xt4 sport suv 4d      good          NaN   \n",
       "426878  2018.0        lexus           es 350 sedan 4d      good  6 cylinders   \n",
       "426879  2019.0          bmw  4 series 430i gran coupe      good          NaN   \n",
       "\n",
       "        ... size       type paint_color  \\\n",
       "0       ...  NaN        NaN         NaN   \n",
       "1       ...  NaN        NaN         NaN   \n",
       "2       ...  NaN        NaN         NaN   \n",
       "3       ...  NaN        NaN         NaN   \n",
       "4       ...  NaN        NaN         NaN   \n",
       "...     ...  ...        ...         ...   \n",
       "426875  ...  NaN      sedan         NaN   \n",
       "426876  ...  NaN      sedan         red   \n",
       "426877  ...  NaN  hatchback       white   \n",
       "426878  ...  NaN      sedan      silver   \n",
       "426879  ...  NaN      coupe         NaN   \n",
       "\n",
       "                                                image_url  \\\n",
       "0                                                     NaN   \n",
       "1                                                     NaN   \n",
       "2                                                     NaN   \n",
       "3                                                     NaN   \n",
       "4                                                     NaN   \n",
       "...                                                   ...   \n",
       "426875  https://images.craigslist.org/00o0o_iiraFnHg8q...   \n",
       "426876  https://images.craigslist.org/00x0x_15sbgnxCIS...   \n",
       "426877  https://images.craigslist.org/00L0L_farM7bxnxR...   \n",
       "426878  https://images.craigslist.org/00z0z_bKnIVGLkDT...   \n",
       "426879  https://images.craigslist.org/00Y0Y_lEUocjyRxa...   \n",
       "\n",
       "                                              description county state  \\\n",
       "0                                                     NaN    NaN    az   \n",
       "1                                                     NaN    NaN    ar   \n",
       "2                                                     NaN    NaN    fl   \n",
       "3                                                     NaN    NaN    ma   \n",
       "4                                                     NaN    NaN    nc   \n",
       "...                                                   ...    ...   ...   \n",
       "426875  Carvana is the safer way to buy a car During t...    NaN    wy   \n",
       "426876  Carvana is the safer way to buy a car During t...    NaN    wy   \n",
       "426877  Carvana is the safer way to buy a car During t...    NaN    wy   \n",
       "426878  Carvana is the safer way to buy a car During t...    NaN    wy   \n",
       "426879  Carvana is the safer way to buy a car During t...    NaN    wy   \n",
       "\n",
       "              lat       long              posting_date  \n",
       "0             NaN        NaN                       NaN  \n",
       "1             NaN        NaN                       NaN  \n",
       "2             NaN        NaN                       NaN  \n",
       "3             NaN        NaN                       NaN  \n",
       "4             NaN        NaN                       NaN  \n",
       "...           ...        ...                       ...  \n",
       "426875  33.786500 -84.445400  2021-04-04T03:21:31-0600  \n",
       "426876  33.786500 -84.445400  2021-04-04T03:21:29-0600  \n",
       "426877  33.779214 -84.411811  2021-04-04T03:21:17-0600  \n",
       "426878  33.786500 -84.445400  2021-04-04T03:21:11-0600  \n",
       "426879  33.779214 -84.411811  2021-04-04T03:21:07-0600  \n",
       "\n",
       "[426880 rows x 26 columns]"
      ]
     },
     "execution_count": 4,
     "metadata": {},
     "output_type": "execute_result"
    }
   ],
   "source": [
    "# Fungsi ini untuk menampilkan data\n",
    "data"
   ]
  },
  {
   "cell_type": "code",
   "execution_count": 5,
   "id": "36b121ae",
   "metadata": {},
   "outputs": [
    {
     "name": "stdout",
     "output_type": "stream",
     "text": [
      "<class 'pandas.core.frame.DataFrame'>\n",
      "RangeIndex: 426880 entries, 0 to 426879\n",
      "Data columns (total 26 columns):\n",
      " #   Column        Non-Null Count   Dtype  \n",
      "---  ------        --------------   -----  \n",
      " 0   id            426880 non-null  int64  \n",
      " 1   url           426880 non-null  object \n",
      " 2   region        426880 non-null  object \n",
      " 3   region_url    426880 non-null  object \n",
      " 4   price         426880 non-null  int64  \n",
      " 5   year          425675 non-null  float64\n",
      " 6   manufacturer  409234 non-null  object \n",
      " 7   model         421603 non-null  object \n",
      " 8   condition     252776 non-null  object \n",
      " 9   cylinders     249202 non-null  object \n",
      " 10  fuel          423867 non-null  object \n",
      " 11  odometer      422480 non-null  float64\n",
      " 12  title_status  418638 non-null  object \n",
      " 13  transmission  424324 non-null  object \n",
      " 14  VIN           265838 non-null  object \n",
      " 15  drive         296313 non-null  object \n",
      " 16  size          120519 non-null  object \n",
      " 17  type          334022 non-null  object \n",
      " 18  paint_color   296677 non-null  object \n",
      " 19  image_url     426812 non-null  object \n",
      " 20  description   426810 non-null  object \n",
      " 21  county        0 non-null       float64\n",
      " 22  state         426880 non-null  object \n",
      " 23  lat           420331 non-null  float64\n",
      " 24  long          420331 non-null  float64\n",
      " 25  posting_date  426812 non-null  object \n",
      "dtypes: float64(5), int64(2), object(19)\n",
      "memory usage: 84.7+ MB\n"
     ]
    }
   ],
   "source": [
    "# Fungsi ini untuk melihat infomasi data tentang data kolom, data null, dan data type.\n",
    "data.info()"
   ]
  },
  {
   "cell_type": "code",
   "execution_count": 6,
   "id": "e41bdadd",
   "metadata": {},
   "outputs": [
    {
     "data": {
      "text/plain": [
       "id                   0\n",
       "url                  0\n",
       "region               0\n",
       "region_url           0\n",
       "price                0\n",
       "year              1205\n",
       "manufacturer     17646\n",
       "model             5277\n",
       "condition       174104\n",
       "cylinders       177678\n",
       "fuel              3013\n",
       "odometer          4400\n",
       "title_status      8242\n",
       "transmission      2556\n",
       "VIN             161042\n",
       "drive           130567\n",
       "size            306361\n",
       "type             92858\n",
       "paint_color     130203\n",
       "image_url           68\n",
       "description         70\n",
       "county          426880\n",
       "state                0\n",
       "lat               6549\n",
       "long              6549\n",
       "posting_date        68\n",
       "dtype: int64"
      ]
     },
     "execution_count": 6,
     "metadata": {},
     "output_type": "execute_result"
    }
   ],
   "source": [
    "# Fungsi ini untuk melihat infomasi data tentang data null yang muncul di setiap kolom.\n",
    "data.isnull().sum()"
   ]
  },
  {
   "cell_type": "code",
   "execution_count": 7,
   "id": "a90ca11b",
   "metadata": {},
   "outputs": [
    {
     "data": {
      "text/html": [
       "<div>\n",
       "<style scoped>\n",
       "    .dataframe tbody tr th:only-of-type {\n",
       "        vertical-align: middle;\n",
       "    }\n",
       "\n",
       "    .dataframe tbody tr th {\n",
       "        vertical-align: top;\n",
       "    }\n",
       "\n",
       "    .dataframe thead th {\n",
       "        text-align: right;\n",
       "    }\n",
       "</style>\n",
       "<table border=\"1\" class=\"dataframe\">\n",
       "  <thead>\n",
       "    <tr style=\"text-align: right;\">\n",
       "      <th></th>\n",
       "      <th>id</th>\n",
       "      <th>price</th>\n",
       "      <th>year</th>\n",
       "      <th>odometer</th>\n",
       "      <th>county</th>\n",
       "      <th>lat</th>\n",
       "      <th>long</th>\n",
       "    </tr>\n",
       "  </thead>\n",
       "  <tbody>\n",
       "    <tr>\n",
       "      <th>count</th>\n",
       "      <td>4.268800e+05</td>\n",
       "      <td>4.268800e+05</td>\n",
       "      <td>425675.000000</td>\n",
       "      <td>4.224800e+05</td>\n",
       "      <td>0.0</td>\n",
       "      <td>420331.000000</td>\n",
       "      <td>420331.000000</td>\n",
       "    </tr>\n",
       "    <tr>\n",
       "      <th>mean</th>\n",
       "      <td>7.311487e+09</td>\n",
       "      <td>7.519903e+04</td>\n",
       "      <td>2011.235191</td>\n",
       "      <td>9.804333e+04</td>\n",
       "      <td>NaN</td>\n",
       "      <td>38.493940</td>\n",
       "      <td>-94.748599</td>\n",
       "    </tr>\n",
       "    <tr>\n",
       "      <th>std</th>\n",
       "      <td>4.473170e+06</td>\n",
       "      <td>1.218228e+07</td>\n",
       "      <td>9.452120</td>\n",
       "      <td>2.138815e+05</td>\n",
       "      <td>NaN</td>\n",
       "      <td>5.841533</td>\n",
       "      <td>18.365462</td>\n",
       "    </tr>\n",
       "    <tr>\n",
       "      <th>min</th>\n",
       "      <td>7.207408e+09</td>\n",
       "      <td>0.000000e+00</td>\n",
       "      <td>1900.000000</td>\n",
       "      <td>0.000000e+00</td>\n",
       "      <td>NaN</td>\n",
       "      <td>-84.122245</td>\n",
       "      <td>-159.827728</td>\n",
       "    </tr>\n",
       "    <tr>\n",
       "      <th>25%</th>\n",
       "      <td>7.308143e+09</td>\n",
       "      <td>5.900000e+03</td>\n",
       "      <td>2008.000000</td>\n",
       "      <td>3.770400e+04</td>\n",
       "      <td>NaN</td>\n",
       "      <td>34.601900</td>\n",
       "      <td>-111.939847</td>\n",
       "    </tr>\n",
       "    <tr>\n",
       "      <th>50%</th>\n",
       "      <td>7.312621e+09</td>\n",
       "      <td>1.395000e+04</td>\n",
       "      <td>2013.000000</td>\n",
       "      <td>8.554800e+04</td>\n",
       "      <td>NaN</td>\n",
       "      <td>39.150100</td>\n",
       "      <td>-88.432600</td>\n",
       "    </tr>\n",
       "    <tr>\n",
       "      <th>75%</th>\n",
       "      <td>7.315254e+09</td>\n",
       "      <td>2.648575e+04</td>\n",
       "      <td>2017.000000</td>\n",
       "      <td>1.335425e+05</td>\n",
       "      <td>NaN</td>\n",
       "      <td>42.398900</td>\n",
       "      <td>-80.832039</td>\n",
       "    </tr>\n",
       "    <tr>\n",
       "      <th>max</th>\n",
       "      <td>7.317101e+09</td>\n",
       "      <td>3.736929e+09</td>\n",
       "      <td>2022.000000</td>\n",
       "      <td>1.000000e+07</td>\n",
       "      <td>NaN</td>\n",
       "      <td>82.390818</td>\n",
       "      <td>173.885502</td>\n",
       "    </tr>\n",
       "  </tbody>\n",
       "</table>\n",
       "</div>"
      ],
      "text/plain": [
       "                 id         price           year      odometer  county  \\\n",
       "count  4.268800e+05  4.268800e+05  425675.000000  4.224800e+05     0.0   \n",
       "mean   7.311487e+09  7.519903e+04    2011.235191  9.804333e+04     NaN   \n",
       "std    4.473170e+06  1.218228e+07       9.452120  2.138815e+05     NaN   \n",
       "min    7.207408e+09  0.000000e+00    1900.000000  0.000000e+00     NaN   \n",
       "25%    7.308143e+09  5.900000e+03    2008.000000  3.770400e+04     NaN   \n",
       "50%    7.312621e+09  1.395000e+04    2013.000000  8.554800e+04     NaN   \n",
       "75%    7.315254e+09  2.648575e+04    2017.000000  1.335425e+05     NaN   \n",
       "max    7.317101e+09  3.736929e+09    2022.000000  1.000000e+07     NaN   \n",
       "\n",
       "                 lat           long  \n",
       "count  420331.000000  420331.000000  \n",
       "mean       38.493940     -94.748599  \n",
       "std         5.841533      18.365462  \n",
       "min       -84.122245    -159.827728  \n",
       "25%        34.601900    -111.939847  \n",
       "50%        39.150100     -88.432600  \n",
       "75%        42.398900     -80.832039  \n",
       "max        82.390818     173.885502  "
      ]
     },
     "execution_count": 7,
     "metadata": {},
     "output_type": "execute_result"
    }
   ],
   "source": [
    "# Fungsi ini digunakan untuk melihat data deskripsi dari data kolom numerik\n",
    "data.describe()"
   ]
  },
  {
   "cell_type": "code",
   "execution_count": 8,
   "id": "73a3efed",
   "metadata": {},
   "outputs": [
    {
     "data": {
      "text/plain": [
       "Index(['id', 'url', 'region', 'region_url', 'price', 'year', 'manufacturer',\n",
       "       'model', 'condition', 'cylinders', 'fuel', 'odometer', 'title_status',\n",
       "       'transmission', 'VIN', 'drive', 'size', 'type', 'paint_color',\n",
       "       'image_url', 'description', 'county', 'state', 'lat', 'long',\n",
       "       'posting_date'],\n",
       "      dtype='object')"
      ]
     },
     "execution_count": 8,
     "metadata": {},
     "output_type": "execute_result"
    }
   ],
   "source": [
    "# Fungsi ini digunakan untuk melihat nama kolom yang tersedia\n",
    "data.columns"
   ]
  },
  {
   "cell_type": "markdown",
   "id": "14cfdd2e",
   "metadata": {},
   "source": [
    "## **iv. Data Cleaning**"
   ]
  },
  {
   "cell_type": "markdown",
   "id": "d0a0e20a",
   "metadata": {},
   "source": [
    "Langkah ini bertujuan untuk menghapus beberapa kolom yang tidak digunakan, dan menghapus baris yang memiliki data null, dsb"
   ]
  },
  {
   "cell_type": "code",
   "execution_count": 9,
   "id": "a027ada2",
   "metadata": {},
   "outputs": [],
   "source": [
    "# Fungsi ini untuk menghapus kolom yang tidak digunakan\n",
    "data = data.drop(columns=['id', 'url', 'region_url', 'image_url', 'description', 'county', 'VIN', 'lat', 'long', 'posting_date'])"
   ]
  },
  {
   "cell_type": "code",
   "execution_count": 10,
   "id": "14b9de34",
   "metadata": {},
   "outputs": [],
   "source": [
    "# Fungsi ini untuk menghapus baris dari beberapa kolom yang berisi nilai tidak wajar\n",
    "data = data[data['price'] > 1000]\n",
    "data = data[data['price'] < 100000]\n",
    "data = data[data['odometer'] > 1000]\n",
    "data = data[data['odometer'] < 1000000]\n",
    "data = data[data['year'] > 1920]"
   ]
  },
  {
   "cell_type": "code",
   "execution_count": 11,
   "id": "5ce0a67a",
   "metadata": {},
   "outputs": [],
   "source": [
    "# Fungsi ini untuk menghapus baris yang memiliki data atau nilai null\n",
    "data = data.dropna()"
   ]
  },
  {
   "cell_type": "code",
   "execution_count": 12,
   "id": "5067c21e",
   "metadata": {},
   "outputs": [],
   "source": [
    "# Fungsi ini untuk menghapus baris yang memiliki data duplicate\n",
    "data = data.drop_duplicates()"
   ]
  },
  {
   "cell_type": "code",
   "execution_count": 13,
   "id": "549ba7f0",
   "metadata": {},
   "outputs": [],
   "source": [
    "# Fungsi ini untuk mengganti data type\n",
    "data['year'] = data['year'].astype(int)"
   ]
  },
  {
   "cell_type": "code",
   "execution_count": 14,
   "id": "8282803d",
   "metadata": {},
   "outputs": [
    {
     "data": {
      "text/plain": [
       "price\n",
       "4500     922\n",
       "3500     890\n",
       "6500     871\n",
       "5500     817\n",
       "7500     783\n",
       "        ... \n",
       "27112      1\n",
       "21487      1\n",
       "60995      1\n",
       "14608      1\n",
       "31994      1\n",
       "Name: count, Length: 3998, dtype: int64"
      ]
     },
     "execution_count": 14,
     "metadata": {},
     "output_type": "execute_result"
    }
   ],
   "source": [
    "data['price'].value_counts()"
   ]
  },
  {
   "cell_type": "code",
   "execution_count": 15,
   "id": "e8fcbb95",
   "metadata": {},
   "outputs": [],
   "source": [
    "# Fungsi ini untuk mengembalikan nilai index agar berurut\n",
    "data = data.reset_index(drop=True)"
   ]
  },
  {
   "cell_type": "code",
   "execution_count": 16,
   "id": "f7d7aedb",
   "metadata": {},
   "outputs": [
    {
     "name": "stdout",
     "output_type": "stream",
     "text": [
      "<class 'pandas.core.frame.DataFrame'>\n",
      "RangeIndex: 64822 entries, 0 to 64821\n",
      "Data columns (total 16 columns):\n",
      " #   Column        Non-Null Count  Dtype  \n",
      "---  ------        --------------  -----  \n",
      " 0   region        64822 non-null  object \n",
      " 1   price         64822 non-null  int64  \n",
      " 2   year          64822 non-null  int64  \n",
      " 3   manufacturer  64822 non-null  object \n",
      " 4   model         64822 non-null  object \n",
      " 5   condition     64822 non-null  object \n",
      " 6   cylinders     64822 non-null  object \n",
      " 7   fuel          64822 non-null  object \n",
      " 8   odometer      64822 non-null  float64\n",
      " 9   title_status  64822 non-null  object \n",
      " 10  transmission  64822 non-null  object \n",
      " 11  drive         64822 non-null  object \n",
      " 12  size          64822 non-null  object \n",
      " 13  type          64822 non-null  object \n",
      " 14  paint_color   64822 non-null  object \n",
      " 15  state         64822 non-null  object \n",
      "dtypes: float64(1), int64(2), object(13)\n",
      "memory usage: 7.9+ MB\n"
     ]
    }
   ],
   "source": [
    "data.info()"
   ]
  },
  {
   "cell_type": "markdown",
   "id": "4da500aa",
   "metadata": {},
   "source": [
    "Setelah dilakukan data cleaning, data sebelumnya berisi lebih dari 400ribu baris sekarang menjadi 64822, data sudah bersih dari nilai null\n",
    "\n",
    "---"
   ]
  },
  {
   "cell_type": "code",
   "execution_count": null,
   "id": "f9a769c7",
   "metadata": {},
   "outputs": [],
   "source": [
    "# Fungsi ini untuk menyimpan file \n",
    "data.to_csv('vehicles_clean.csv', index=False)"
   ]
  },
  {
   "cell_type": "markdown",
   "id": "f9091619",
   "metadata": {},
   "source": [
    "## **v. Analisis dan Perhitungan**"
   ]
  },
  {
   "cell_type": "code",
   "execution_count": null,
   "id": "0a13aa2e",
   "metadata": {},
   "outputs": [],
   "source": [
    "# Fungsi ini untuk upload file yang telah di clean\n",
    "data=pd.read_csv('vehicles_clean.csv')"
   ]
  },
  {
   "cell_type": "code",
   "execution_count": 19,
   "id": "0f0002b7",
   "metadata": {},
   "outputs": [
    {
     "data": {
      "text/html": [
       "<div>\n",
       "<style scoped>\n",
       "    .dataframe tbody tr th:only-of-type {\n",
       "        vertical-align: middle;\n",
       "    }\n",
       "\n",
       "    .dataframe tbody tr th {\n",
       "        vertical-align: top;\n",
       "    }\n",
       "\n",
       "    .dataframe thead th {\n",
       "        text-align: right;\n",
       "    }\n",
       "</style>\n",
       "<table border=\"1\" class=\"dataframe\">\n",
       "  <thead>\n",
       "    <tr style=\"text-align: right;\">\n",
       "      <th></th>\n",
       "      <th>region</th>\n",
       "      <th>price</th>\n",
       "      <th>year</th>\n",
       "      <th>manufacturer</th>\n",
       "      <th>model</th>\n",
       "      <th>condition</th>\n",
       "      <th>cylinders</th>\n",
       "      <th>fuel</th>\n",
       "      <th>odometer</th>\n",
       "      <th>title_status</th>\n",
       "      <th>transmission</th>\n",
       "      <th>drive</th>\n",
       "      <th>size</th>\n",
       "      <th>type</th>\n",
       "      <th>paint_color</th>\n",
       "      <th>state</th>\n",
       "    </tr>\n",
       "  </thead>\n",
       "  <tbody>\n",
       "    <tr>\n",
       "      <th>0</th>\n",
       "      <td>auburn</td>\n",
       "      <td>15000</td>\n",
       "      <td>2013</td>\n",
       "      <td>ford</td>\n",
       "      <td>f-150 xlt</td>\n",
       "      <td>excellent</td>\n",
       "      <td>6 cylinders</td>\n",
       "      <td>gas</td>\n",
       "      <td>128000.0</td>\n",
       "      <td>clean</td>\n",
       "      <td>automatic</td>\n",
       "      <td>rwd</td>\n",
       "      <td>full-size</td>\n",
       "      <td>truck</td>\n",
       "      <td>black</td>\n",
       "      <td>al</td>\n",
       "    </tr>\n",
       "    <tr>\n",
       "      <th>1</th>\n",
       "      <td>auburn</td>\n",
       "      <td>19900</td>\n",
       "      <td>2004</td>\n",
       "      <td>ford</td>\n",
       "      <td>f250 super duty</td>\n",
       "      <td>good</td>\n",
       "      <td>8 cylinders</td>\n",
       "      <td>diesel</td>\n",
       "      <td>88000.0</td>\n",
       "      <td>clean</td>\n",
       "      <td>automatic</td>\n",
       "      <td>4wd</td>\n",
       "      <td>full-size</td>\n",
       "      <td>pickup</td>\n",
       "      <td>blue</td>\n",
       "      <td>al</td>\n",
       "    </tr>\n",
       "    <tr>\n",
       "      <th>2</th>\n",
       "      <td>auburn</td>\n",
       "      <td>14000</td>\n",
       "      <td>2012</td>\n",
       "      <td>honda</td>\n",
       "      <td>odyssey</td>\n",
       "      <td>excellent</td>\n",
       "      <td>6 cylinders</td>\n",
       "      <td>gas</td>\n",
       "      <td>95000.0</td>\n",
       "      <td>clean</td>\n",
       "      <td>automatic</td>\n",
       "      <td>fwd</td>\n",
       "      <td>full-size</td>\n",
       "      <td>mini-van</td>\n",
       "      <td>silver</td>\n",
       "      <td>al</td>\n",
       "    </tr>\n",
       "    <tr>\n",
       "      <th>3</th>\n",
       "      <td>auburn</td>\n",
       "      <td>22500</td>\n",
       "      <td>2001</td>\n",
       "      <td>ford</td>\n",
       "      <td>f450</td>\n",
       "      <td>good</td>\n",
       "      <td>8 cylinders</td>\n",
       "      <td>diesel</td>\n",
       "      <td>144700.0</td>\n",
       "      <td>clean</td>\n",
       "      <td>manual</td>\n",
       "      <td>rwd</td>\n",
       "      <td>full-size</td>\n",
       "      <td>truck</td>\n",
       "      <td>white</td>\n",
       "      <td>al</td>\n",
       "    </tr>\n",
       "    <tr>\n",
       "      <th>4</th>\n",
       "      <td>auburn</td>\n",
       "      <td>15000</td>\n",
       "      <td>2017</td>\n",
       "      <td>dodge</td>\n",
       "      <td>charger rt 4dr sedan</td>\n",
       "      <td>excellent</td>\n",
       "      <td>8 cylinders</td>\n",
       "      <td>gas</td>\n",
       "      <td>90000.0</td>\n",
       "      <td>rebuilt</td>\n",
       "      <td>automatic</td>\n",
       "      <td>rwd</td>\n",
       "      <td>mid-size</td>\n",
       "      <td>sedan</td>\n",
       "      <td>grey</td>\n",
       "      <td>al</td>\n",
       "    </tr>\n",
       "  </tbody>\n",
       "</table>\n",
       "</div>"
      ],
      "text/plain": [
       "   region  price  year manufacturer                 model  condition  \\\n",
       "0  auburn  15000  2013         ford             f-150 xlt  excellent   \n",
       "1  auburn  19900  2004         ford       f250 super duty       good   \n",
       "2  auburn  14000  2012        honda               odyssey  excellent   \n",
       "3  auburn  22500  2001         ford                  f450       good   \n",
       "4  auburn  15000  2017        dodge  charger rt 4dr sedan  excellent   \n",
       "\n",
       "     cylinders    fuel  odometer title_status transmission drive       size  \\\n",
       "0  6 cylinders     gas  128000.0        clean    automatic   rwd  full-size   \n",
       "1  8 cylinders  diesel   88000.0        clean    automatic   4wd  full-size   \n",
       "2  6 cylinders     gas   95000.0        clean    automatic   fwd  full-size   \n",
       "3  8 cylinders  diesel  144700.0        clean       manual   rwd  full-size   \n",
       "4  8 cylinders     gas   90000.0      rebuilt    automatic   rwd   mid-size   \n",
       "\n",
       "       type paint_color state  \n",
       "0     truck       black    al  \n",
       "1    pickup        blue    al  \n",
       "2  mini-van      silver    al  \n",
       "3     truck       white    al  \n",
       "4     sedan        grey    al  "
      ]
     },
     "execution_count": 19,
     "metadata": {},
     "output_type": "execute_result"
    }
   ],
   "source": [
    "data.head()"
   ]
  },
  {
   "cell_type": "markdown",
   "id": "772dbe83",
   "metadata": {},
   "source": [
    "Langkah selanjutnya adalah dilakukan apakah data yang dihasilkan mempunyai outlier"
   ]
  },
  {
   "cell_type": "code",
   "execution_count": null,
   "id": "517b4080",
   "metadata": {},
   "outputs": [
    {
     "data": {
      "text/plain": [
       "<Axes: >"
      ]
     },
     "execution_count": 20,
     "metadata": {},
     "output_type": "execute_result"
    },
    {
     "data": {
      "image/png": "[encoded data removed]",
      "text/plain": [
       "<Figure size 1000x400 with 2 Axes>"
      ]
     },
     "metadata": {},
     "output_type": "display_data"
    }
   ],
   "source": [
    "# Fungsi ini adalah untuk melihat apakah ada outlier di data price\n",
    "fig, ax = plt.subplots(ncols=2,figsize=(10,4))\n",
    "\n",
    "data['price'].plot(kind='hist',bins=20,ax=ax[0])\n",
    "data['price'].plot(kind='box',ax=ax[1])"
   ]
  },
  {
   "cell_type": "markdown",
   "id": "29756cf3",
   "metadata": {},
   "source": [
    "Terlihat dengan hasil data diatas, untuk kolom price, memiliki nilai outlier di harga 40.000 ke atas"
   ]
  },
  {
   "cell_type": "markdown",
   "id": "f0fb4fb4",
   "metadata": {},
   "source": [
    "Selanjutnya akan dilakukan metode Z SCORE apakah masih ada outlier atau tidak"
   ]
  },
  {
   "cell_type": "code",
   "execution_count": 68,
   "id": "0b7dea9c",
   "metadata": {},
   "outputs": [
    {
     "name": "stdout",
     "output_type": "stream",
     "text": [
      "Upper Boundary: 62465.89\n",
      "Lower Boundary: -21963.97\n"
     ]
    }
   ],
   "source": [
    "avg = data['price'].mean()\n",
    "std = data['price'].std()\n",
    "\n",
    "up_bound = avg + 3*std\n",
    "low_bound = avg - 3*std\n",
    "\n",
    "print(f'Upper Boundary: {up_bound:.2f}' )\n",
    "print(f'Lower Boundary: {low_bound:.2f}')"
   ]
  },
  {
   "cell_type": "code",
   "execution_count": 69,
   "id": "a27e26d0",
   "metadata": {},
   "outputs": [
    {
     "name": "stdout",
     "output_type": "stream",
     "text": [
      "Percentage of outliers: 1.59%%\n"
     ]
    }
   ],
   "source": [
    "outlier = data['price'][(data['price']<low_bound) | (data['price']>up_bound)]\n",
    "no_outlier = data['price'][(data['price']>=low_bound) & (data['price']<=up_bound)]\n",
    "\n",
    "print(f'Percentage of outliers: {len(outlier)*100/len(data[\"price\"]):.2f}%%')"
   ]
  },
  {
   "cell_type": "code",
   "execution_count": 70,
   "id": "b75fe435",
   "metadata": {},
   "outputs": [
    {
     "data": {
      "text/plain": [
       "<Axes: >"
      ]
     },
     "execution_count": 70,
     "metadata": {},
     "output_type": "execute_result"
    },
    {
     "data": {
      "image/png": "[encoded data removed]",
      "text/plain": [
       "<Figure size 1000x400 with 2 Axes>"
      ]
     },
     "metadata": {},
     "output_type": "display_data"
    }
   ],
   "source": [
    "fig, ax = plt.subplots(ncols=2,figsize=(10,4))\n",
    "\n",
    "no_outlier.plot(kind='hist',bins=20,ax=ax[0])\n",
    "no_outlier.plot(kind='box',ax=ax[1])"
   ]
  },
  {
   "cell_type": "markdown",
   "id": "c0f7a58e",
   "metadata": {},
   "source": [
    "Dari hasil metode z score, masih terdapat outlier dari kolom harga"
   ]
  },
  {
   "cell_type": "markdown",
   "id": "2b16b8f0",
   "metadata": {},
   "source": [
    "Selanjutnya mencoba untuk menggunakan metode Tukeys Rule apakah tetap ada outlier atau tidak"
   ]
  },
  {
   "cell_type": "markdown",
   "id": "d39a7195",
   "metadata": {},
   "source": [
    "Skew Distribution: Tukey's Rule"
   ]
  },
  {
   "cell_type": "code",
   "execution_count": 71,
   "id": "659eb59d",
   "metadata": {},
   "outputs": [
    {
     "name": "stdout",
     "output_type": "stream",
     "text": [
      "Upper Boundary: 52515.00\n",
      "Lower Boundary: -15525.00\n"
     ]
    }
   ],
   "source": [
    "q1 = data['price'].quantile(0.25)\n",
    "q3 = data['price'].quantile(0.75)\n",
    "iqr = q3-q1\n",
    "\n",
    "up_bound = q3 + 1.5*iqr\n",
    "low_bound = q1 - 1.5*iqr\n",
    "\n",
    "print(f'Upper Boundary: {up_bound:.2f}' )\n",
    "print(f'Lower Boundary: {low_bound:.2f}')"
   ]
  },
  {
   "cell_type": "code",
   "execution_count": 72,
   "id": "694c2958",
   "metadata": {},
   "outputs": [
    {
     "name": "stdout",
     "output_type": "stream",
     "text": [
      "Percentage of outliers: 3.38%%\n"
     ]
    }
   ],
   "source": [
    "outlier = data['price'][(data['price']<low_bound) | (data['price']>up_bound)]\n",
    "no_outlier = data['price'][(data['price']>=low_bound) & (data['price']<=up_bound)]\n",
    "\n",
    "print(f'Percentage of outliers: {len(outlier)*100/len(data[\"price\"]):.2f}%%')"
   ]
  },
  {
   "cell_type": "code",
   "execution_count": 73,
   "id": "4a7fe435",
   "metadata": {},
   "outputs": [
    {
     "data": {
      "text/plain": [
       "<Axes: >"
      ]
     },
     "execution_count": 73,
     "metadata": {},
     "output_type": "execute_result"
    },
    {
     "data": {
      "image/png": "[encoded data removed]",
      "text/plain": [
       "<Figure size 1000x400 with 2 Axes>"
      ]
     },
     "metadata": {},
     "output_type": "display_data"
    }
   ],
   "source": [
    "fig, ax = plt.subplots(ncols=2,figsize=(10,4))\n",
    "\n",
    "no_outlier.plot(kind='hist',bins=20,ax=ax[0])\n",
    "no_outlier.plot(kind='box',ax=ax[1])"
   ]
  },
  {
   "cell_type": "markdown",
   "id": "a3b9348c",
   "metadata": {},
   "source": [
    "Dari hasil metode tukey rule, tetap terdapat outlier di kolom harga, ini menandakan bahwa beberapa mobil memang memiliki harga yang tinggi, bisa dikarenakan mobil klasik atau merk mobile mewah.\n",
    "\n",
    "---"
   ]
  },
  {
   "cell_type": "markdown",
   "id": "89af01c2",
   "metadata": {},
   "source": [
    "### **Menjawab Penjabaran Masalah**"
   ]
  },
  {
   "cell_type": "markdown",
   "id": "a6fd35d1",
   "metadata": {},
   "source": [
    "### 1. Merk Mobil mana yang sering di posting"
   ]
  },
  {
   "cell_type": "code",
   "execution_count": 75,
   "id": "1082dfa3",
   "metadata": {},
   "outputs": [
    {
     "name": "stdout",
     "output_type": "stream",
     "text": [
      "full_model\n",
      "ford f-150                   397\n",
      "chevrolet silverado 1500     322\n",
      "chevrolet corvette           247\n",
      "ram 1500                     227\n",
      "ford mustang                 221\n",
      "ford super duty f-550 drw    188\n",
      "jeep wrangler                188\n",
      "honda civic                  164\n",
      "toyota tacoma                156\n",
      "ford transit                 155\n",
      "Name: count, dtype: int64\n"
     ]
    }
   ],
   "source": [
    "# Gabungkan merek dan model jadi satu kolom baru\n",
    "data['full_model'] = data['manufacturer'].astype(str) + ' ' + data['model'].astype(str)\n",
    "\n",
    "# Hitung frekuensi kemunculan tiap model\n",
    "top_models = data['full_model'].value_counts().head(10)\n",
    "\n",
    "# Tampilkan\n",
    "print(top_models)"
   ]
  },
  {
   "cell_type": "code",
   "execution_count": 76,
   "id": "0455aaad",
   "metadata": {},
   "outputs": [
    {
     "data": {
      "text/plain": [
       "<Axes: xlabel='full_model,manufacturer'>"
      ]
     },
     "execution_count": 76,
     "metadata": {},
     "output_type": "execute_result"
    },
    {
     "data": {
      "image/png": "[encoded data removed]",
      "text/plain": [
       "<Figure size 640x480 with 1 Axes>"
      ]
     },
     "metadata": {},
     "output_type": "display_data"
    }
   ],
   "source": [
    "data.groupby('full_model')['manufacturer'].value_counts().sort_values(ascending=False).head(10).plot(kind='bar')"
   ]
  },
  {
   "cell_type": "markdown",
   "id": "cea3c98c",
   "metadata": {},
   "source": [
    "Dari hasil diatas, didapatkan bahwa mobil ford f-150 merupakan mobil yang sering diposting di website penjualan mobil bekas\n",
    "\n",
    "---"
   ]
  },
  {
   "cell_type": "markdown",
   "id": "6563d5fe",
   "metadata": {},
   "source": [
    "### 2. Bagaimana distribusi harga mobil bekas"
   ]
  },
  {
   "cell_type": "code",
   "execution_count": 47,
   "id": "2c2f55b1",
   "metadata": {},
   "outputs": [
    {
     "data": {
      "text/plain": [
       "<Axes: xlabel='price', ylabel='Count'>"
      ]
     },
     "execution_count": 47,
     "metadata": {},
     "output_type": "execute_result"
    },
    {
     "data": {
      "image/png": "[encoded data removed]",
      "text/plain": [
       "<Figure size 640x480 with 1 Axes>"
      ]
     },
     "metadata": {},
     "output_type": "display_data"
    }
   ],
   "source": [
    "sns.histplot(data['price'], bins=50)"
   ]
  },
  {
   "cell_type": "code",
   "execution_count": 43,
   "id": "23c786d8",
   "metadata": {},
   "outputs": [
    {
     "data": {
      "text/plain": [
       "<Axes: xlabel='price', ylabel='Count'>"
      ]
     },
     "execution_count": 43,
     "metadata": {},
     "output_type": "execute_result"
    },
    {
     "data": {
      "image/png": "[encoded data removed]",
      "text/plain": [
       "<Figure size 640x480 with 1 Axes>"
      ]
     },
     "metadata": {},
     "output_type": "display_data"
    }
   ],
   "source": [
    "sns.histplot(data[data['price'] < 50000]['price'], bins=50)"
   ]
  },
  {
   "cell_type": "markdown",
   "id": "deb68b17",
   "metadata": {},
   "source": [
    "Dari hasil pengecekan distribusi harga terlihat bahwa rata rata harga mobil yang terjual adalah di rentang 1000 - 20.000"
   ]
  },
  {
   "cell_type": "markdown",
   "id": "4be93e6a",
   "metadata": {},
   "source": [
    "### 3. Apa merek mobil yang paling mahal rata-rata harganya ?"
   ]
  },
  {
   "cell_type": "code",
   "execution_count": 44,
   "id": "17a1b814",
   "metadata": {},
   "outputs": [
    {
     "data": {
      "text/plain": [
       "manufacturer\n",
       "ferrari         88246.0\n",
       "aston-martin    53367.0\n",
       "tesla           51336.0\n",
       "ram             34963.0\n",
       "porsche         32793.0\n",
       "rover           30419.0\n",
       "gmc             29718.0\n",
       "land rover      25972.0\n",
       "ford            24359.0\n",
       "lexus           22973.0\n",
       "Name: price, dtype: float64"
      ]
     },
     "execution_count": 44,
     "metadata": {},
     "output_type": "execute_result"
    }
   ],
   "source": [
    "data.groupby('manufacturer')['price'].mean().round().sort_values(ascending=False).head(10)"
   ]
  },
  {
   "cell_type": "code",
   "execution_count": 46,
   "id": "83ff575a",
   "metadata": {},
   "outputs": [
    {
     "data": {
      "text/plain": [
       "manufacturer\n",
       "ferrari         $88,246\n",
       "aston-martin    $53,367\n",
       "tesla           $49,015\n",
       "porsche         $27,845\n",
       "ram             $24,505\n",
       "alfa-romeo      $21,796\n",
       "rover           $20,592\n",
       "gmc             $20,097\n",
       "land rover      $18,117\n",
       "ford            $17,249\n",
       "Name: price, dtype: object"
      ]
     },
     "execution_count": 46,
     "metadata": {},
     "output_type": "execute_result"
    }
   ],
   "source": [
    "data.groupby('manufacturer')['price']\\\n",
    "    .mean()\\\n",
    "    .round()\\\n",
    "    .sort_values(ascending=False)\\\n",
    "    .head(10)\\\n",
    "    .apply(lambda x: f\"${int(x):,}\")\n"
   ]
  },
  {
   "cell_type": "code",
   "execution_count": 21,
   "id": "b7962383",
   "metadata": {},
   "outputs": [
    {
     "data": {
      "text/plain": [
       "<Axes: >"
      ]
     },
     "execution_count": 21,
     "metadata": {},
     "output_type": "execute_result"
    },
    {
     "data": {
      "image/png": "[encoded data removed]",
      "text/plain": [
       "<Figure size 640x480 with 1 Axes>"
      ]
     },
     "metadata": {},
     "output_type": "display_data"
    }
   ],
   "source": [
    "data.groupby('manufacturer')['price'].mean().sort_values(ascending=False).head(20).plot(kind='box')"
   ]
  },
  {
   "cell_type": "code",
   "execution_count": 22,
   "id": "257d901f",
   "metadata": {},
   "outputs": [
    {
     "data": {
      "text/plain": [
       "<Axes: xlabel='manufacturer'>"
      ]
     },
     "execution_count": 22,
     "metadata": {},
     "output_type": "execute_result"
    },
    {
     "data": {
      "image/png": "[encoded data removed]",
      "text/plain": [
       "<Figure size 640x480 with 1 Axes>"
      ]
     },
     "metadata": {},
     "output_type": "display_data"
    }
   ],
   "source": [
    "data.groupby('manufacturer')['price'].mean().sort_values(ascending=False).head(20).plot(kind='bar')"
   ]
  },
  {
   "cell_type": "markdown",
   "id": "ec71a83f",
   "metadata": {},
   "source": [
    "Dari hasil data diatas, merk mobil yang memiliki harga rata rata tertinggi di penjualan adalah ferarri, aston martin dan tesla, ini menandakan bahwa mobil mobil ini adalah mobil premium walaupun bekas tapi masih memiliki harga jual tinggi\n",
    "\n",
    "---"
   ]
  },
  {
   "cell_type": "markdown",
   "id": "168abae5",
   "metadata": {},
   "source": [
    "### 4. Berapa rata rata harga dari setiap kondisi mobil"
   ]
  },
  {
   "cell_type": "code",
   "execution_count": 45,
   "id": "a20f36d1",
   "metadata": {},
   "outputs": [
    {
     "name": "stdout",
     "output_type": "stream",
     "text": [
      "Good       : 17791\n",
      "Excellent  : 19940\n",
      "Fair       : 5763\n",
      "Like New   : 24358\n",
      "New        : 31236\n",
      "Salvage    : 8204\n"
     ]
    }
   ],
   "source": [
    "print(\"Good       :\", round(data[data['condition'] == 'good']['price'].mean()))\n",
    "print(\"Excellent  :\", round(data[data['condition'] == 'excellent']['price'].mean()))\n",
    "print(\"Fair       :\", round(data[data['condition'] == 'fair']['price'].mean()))\n",
    "print(\"Like New   :\", round(data[data['condition'] == 'like new']['price'].mean()))\n",
    "print(\"New        :\", round(data[data['condition'] == 'new']['price'].mean()))\n",
    "print(\"Salvage    :\", round(data[data['condition'] == 'salvage']['price'].mean()))"
   ]
  },
  {
   "cell_type": "code",
   "execution_count": 30,
   "id": "02025dbe",
   "metadata": {},
   "outputs": [
    {
     "data": {
      "text/plain": [
       "<Axes: xlabel='condition'>"
      ]
     },
     "execution_count": 30,
     "metadata": {},
     "output_type": "execute_result"
    },
    {
     "data": {
      "image/png": "[encoded data removed]",
      "text/plain": [
       "<Figure size 640x480 with 1 Axes>"
      ]
     },
     "metadata": {},
     "output_type": "display_data"
    }
   ],
   "source": [
    "data.groupby('condition')['price'].mean().sort_values(ascending=False).plot(kind='bar')"
   ]
  },
  {
   "cell_type": "markdown",
   "id": "c3d4fe13",
   "metadata": {},
   "source": [
    "### 5. Berapa rata-rata, median, dan standar deviasi harga mobil?"
   ]
  },
  {
   "cell_type": "markdown",
   "id": "3b1bd8cb",
   "metadata": {},
   "source": [
    "statistik deskriptif"
   ]
  },
  {
   "cell_type": "code",
   "execution_count": 30,
   "id": "06800a33",
   "metadata": {},
   "outputs": [
    {
     "data": {
      "text/html": [
       "<div>\n",
       "<style scoped>\n",
       "    .dataframe tbody tr th:only-of-type {\n",
       "        vertical-align: middle;\n",
       "    }\n",
       "\n",
       "    .dataframe tbody tr th {\n",
       "        vertical-align: top;\n",
       "    }\n",
       "\n",
       "    .dataframe thead th {\n",
       "        text-align: right;\n",
       "    }\n",
       "</style>\n",
       "<table border=\"1\" class=\"dataframe\">\n",
       "  <thead>\n",
       "    <tr style=\"text-align: right;\">\n",
       "      <th></th>\n",
       "      <th>price</th>\n",
       "    </tr>\n",
       "  </thead>\n",
       "  <tbody>\n",
       "    <tr>\n",
       "      <th>count</th>\n",
       "      <td>64822.000000</td>\n",
       "    </tr>\n",
       "    <tr>\n",
       "      <th>mean</th>\n",
       "      <td>13893.498411</td>\n",
       "    </tr>\n",
       "    <tr>\n",
       "      <th>std</th>\n",
       "      <td>11908.328589</td>\n",
       "    </tr>\n",
       "    <tr>\n",
       "      <th>min</th>\n",
       "      <td>1050.000000</td>\n",
       "    </tr>\n",
       "    <tr>\n",
       "      <th>25%</th>\n",
       "      <td>5800.000000</td>\n",
       "    </tr>\n",
       "    <tr>\n",
       "      <th>50%</th>\n",
       "      <td>9990.000000</td>\n",
       "    </tr>\n",
       "    <tr>\n",
       "      <th>75%</th>\n",
       "      <td>17999.000000</td>\n",
       "    </tr>\n",
       "    <tr>\n",
       "      <th>max</th>\n",
       "      <td>99990.000000</td>\n",
       "    </tr>\n",
       "  </tbody>\n",
       "</table>\n",
       "</div>"
      ],
      "text/plain": [
       "              price\n",
       "count  64822.000000\n",
       "mean   13893.498411\n",
       "std    11908.328589\n",
       "min     1050.000000\n",
       "25%     5800.000000\n",
       "50%     9990.000000\n",
       "75%    17999.000000\n",
       "max    99990.000000"
      ]
     },
     "execution_count": 30,
     "metadata": {},
     "output_type": "execute_result"
    }
   ],
   "source": [
    "data[['price']].describe()"
   ]
  },
  {
   "cell_type": "markdown",
   "id": "8f16c747",
   "metadata": {},
   "source": [
    "### 6. Apakah region mempengaruhi harga mobil ?"
   ]
  },
  {
   "cell_type": "markdown",
   "id": "b157c569",
   "metadata": {},
   "source": [
    "H0 = tidak terdapat perbedaan harga mobil berdasarkan region\n",
    "H1 = terdapat perbedaan harga mobil berdasarkan region"
   ]
  },
  {
   "cell_type": "code",
   "execution_count": 25,
   "id": "b8232761",
   "metadata": {},
   "outputs": [
    {
     "name": "stdout",
     "output_type": "stream",
     "text": [
      "F-statistic: 10.37\n",
      "P-value: 0.00000\n",
      "Kesimpulan: Terdapat perbedaan signifikan rata-rata harga antar region.\n"
     ]
    }
   ],
   "source": [
    "# Filter data untuk menghindari harga 0 atau missing\n",
    "filtered_data = data[data['price'] > 0]\n",
    "\n",
    "# Buat list harga per region\n",
    "grouped_prices = [group['price'].values for name, group in filtered_data.groupby('region')]\n",
    "\n",
    "# Uji ANOVA\n",
    "f_stat, p_val = stats.f_oneway(*grouped_prices)\n",
    "\n",
    "print(f'F-statistic: {f_stat:.2f}')\n",
    "print(f'P-value: {p_val:.5f}')\n",
    "\n",
    "# Interpretasi hasil\n",
    "if p_val < 0.05:\n",
    "    print(\"Kesimpulan: Terdapat perbedaan signifikan rata-rata harga antar region.\")\n",
    "else:\n",
    "    print(\"Kesimpulan: Tidak ada perbedaan signifikan rata-rata harga antar region.\")\n"
   ]
  },
  {
   "cell_type": "code",
   "execution_count": null,
   "id": "f2d6fc55",
   "metadata": {},
   "outputs": [
    {
     "data": {
      "image/png": "[encoded data removed]",
      "text/plain": [
       "<Figure size 1200x600 with 1 Axes>"
      ]
     },
     "metadata": {},
     "output_type": "display_data"
    }
   ],
   "source": [
    "# Pilih beberapa region dengan data terbanyak\n",
    "top_regions = data['region'].value_counts().head(10).index\n",
    "subset = data[data['region'].isin(top_regions)]\n",
    "\n",
    "plt.figure(figsize=(12,6))\n",
    "sns.boxplot(data=subset, x='region', y='price')\n",
    "plt.title('Distribusi Harga Mobil per Region (Top 10 Region)')\n",
    "plt.xticks(rotation=45)\n",
    "plt.show()\n"
   ]
  },
  {
   "cell_type": "markdown",
   "id": "1a1c908c",
   "metadata": {},
   "source": [
    "## **vi. Pengambilan Kesimpulan**"
   ]
  },
  {
   "cell_type": "markdown",
   "id": "5f3737f4",
   "metadata": {},
   "source": [
    "Berdasarkan hasil analisis yang dilakukan terhadap dataset mobil bekas dari Kaggle, dapat disimpulkan beberapa poin utama yang relevan untuk pengambilan keputusan bisnis:\n",
    "\n",
    "1. Sebaran Harga Tidak Merata (Right-Skewed)  \n",
    "\n",
    "    Distribusi harga mobil bekas menunjukkan pola right-skewed, artinya sebagian besar mobil dijual di harga rendah hingga menengah, namun terdapat sejumlah kecil mobil yang memiliki harga sangat tinggi.\n",
    "\n",
    "2. Merek Mobil Mewah Memiliki Harga Tertinggi\n",
    "\n",
    "    Merek-merek seperti Ferrari dan Aston Martin menempati posisi teratas dalam rata-rata harga jual. Ini menegaskan bahwa mobil mewah memiliki segmentasi pasar tersendiri yang memengaruhi distribusi harga secara keseluruhan.\n",
    "\n",
    "3. Model Mobil Terpopuler di Pasar\n",
    "\n",
    "    Model yang paling sering dijual adalah dari pabrikan Ford dan Chevrolet, menandakan tingginya volume dan popularitas model-model dari dua produsen tersebut di pasar mobil bekas.\n",
    "\n",
    "4. Kondisi \"New\" Berpengaruh terhadap Harga\n",
    "\n",
    "    Mobil dalam kondisi \"new\" memiliki harga rata-rata tertinggi, dibandingkan dengan kondisi lainnya seperti good, fair, atau salvage. Hal ini menunjukkan bahwa kondisi kendaraan sangat memengaruhi nilai jualnya.\n",
    "\n",
    "5. Statistik Deskriptif Harga Mobil\n",
    "\n",
    "    Rata-rata harga mobil dalam dataset adalah sekitar $14,021, dengan kondisi \"new\" sebagai kelompok dengan nilai median harga tertinggi. Hal ini menguatkan temuan bahwa kondisi mobil sangat menentukan nilai.\n",
    "\n",
    "6. Apakah region mempengaruhi harga mobil\n",
    "\n",
    "    Hasil uji inferensial (ANOVA) menunjukkan bahwa terdapat perbedaan signifikan rata rata harga antar region. Hal ini menunjukan jika kita menjual mobil dengan region yang berbeda maka harga bisa berbeda juga.\n",
    "\n"
   ]
  }
 ],
 "metadata": {
  "kernelspec": {
   "display_name": "base",
   "language": "python",
   "name": "python3"
  },
  "language_info": {
   "codemirror_mode": {
    "name": "ipython",
    "version": 3
   },
   "file_extension": ".py",
   "mimetype": "text/x-python",
   "name": "python",
   "nbconvert_exporter": "python",
   "pygments_lexer": "ipython3",
   "version": "3.13.2"
  }
 },
 "nbformat": 4,
 "nbformat_minor": 5
}
